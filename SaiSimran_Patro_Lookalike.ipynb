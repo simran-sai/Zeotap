{
  "nbformat": 4,
  "nbformat_minor": 0,
  "metadata": {
    "colab": {
      "provenance": []
    },
    "kernelspec": {
      "name": "python3",
      "display_name": "Python 3"
    },
    "language_info": {
      "name": "python"
    }
  },
  "cells": [
    {
      "cell_type": "code",
      "execution_count": 1,
      "metadata": {
        "id": "a1TffTAaaUHf"
      },
      "outputs": [],
      "source": [
        "from sklearn.metrics.pairwise import cosine_similarity\n",
        "from sklearn.preprocessing import StandardScaler\n",
        "import pandas as pd"
      ]
    },
    {
      "cell_type": "code",
      "source": [
        "# Load processed data\n",
        "data = pd.read_csv(\"Processed_Data.csv\")\n",
        "\n",
        "# Feature preparation\n",
        "features = data.groupby('CustomerID').agg({\n",
        "    'Region': 'first',\n",
        "    'Category': lambda x: ' '.join(x),\n",
        "    'TotalValue': 'sum',\n",
        "    'Quantity': 'sum'\n",
        "}).reset_index()"
      ],
      "metadata": {
        "id": "lJwqYjFbajqL"
      },
      "execution_count": 3,
      "outputs": []
    },
    {
      "cell_type": "code",
      "source": [
        "# One-hot encode categorical features\n",
        "features = pd.get_dummies(features, columns=['Region', 'Category'])\n",
        "scaler = StandardScaler()\n",
        "scaled_features = scaler.fit_transform(features.iloc[:, 2:])"
      ],
      "metadata": {
        "id": "DORXbBkQaqK0"
      },
      "execution_count": 4,
      "outputs": []
    },
    {
      "cell_type": "code",
      "source": [
        "# Calculate similarity scores\n",
        "similarity_matrix = cosine_similarity(scaled_features)\n",
        "similarity_df = pd.DataFrame(similarity_matrix, index=features['CustomerID'], columns=features['CustomerID'])"
      ],
      "metadata": {
        "id": "u1Vl2GuNbCTh"
      },
      "execution_count": 5,
      "outputs": []
    },
    {
      "cell_type": "code",
      "source": [
        "# Recommend top 3 similar customers\n",
        "lookalike_results = {}\n",
        "for customer in features['CustomerID'][:20]:\n",
        "    similar_customers = similarity_df[customer].sort_values(ascending=False)[1:4]\n",
        "    lookalike_results[customer] = list(zip(similar_customers.index, similar_customers.values))"
      ],
      "metadata": {
        "id": "FyAAJeb0bEmM"
      },
      "execution_count": 6,
      "outputs": []
    },
    {
      "cell_type": "code",
      "source": [
        "# Save Lookalike.csv\n",
        "lookalike_df = pd.DataFrame([\n",
        "    {\"CustomerID\": k, \"Recommendations\": v} for k, v in lookalike_results.items()\n",
        "])\n",
        "lookalike_df.to_csv(\"Lookalike.csv\", index=False)"
      ],
      "metadata": {
        "id": "oAfNutM5bH83"
      },
      "execution_count": 7,
      "outputs": []
    },
    {
      "cell_type": "code",
      "source": [
        "# Display Lookalike Recommendations\n",
        "print(lookalike_df.head())"
      ],
      "metadata": {
        "colab": {
          "base_uri": "https://localhost:8080/"
        },
        "id": "DJ-QbjNMbLbY",
        "outputId": "58eb620c-4a64-4422-9142-ad47ff0da932"
      },
      "execution_count": 8,
      "outputs": [
        {
          "output_type": "stream",
          "name": "stdout",
          "text": [
            "  CustomerID                                    Recommendations\n",
            "0      C0001  [(C0151, 0.027632487574177963), (C0150, 0.0205...\n",
            "1      C0002  [(C0133, 0.9487182950854319), (C0097, 0.067033...\n",
            "2      C0003  [(C0151, 0.02236232969799536), (C0112, 0.01779...\n",
            "3      C0004  [(C0165, 0.03365373625138064), (C0082, 0.02477...\n",
            "4      C0005  [(C0197, 0.9462399473655353), (C0097, 0.081022...\n"
          ]
        }
      ]
    },
    {
      "cell_type": "code",
      "source": [
        "with open(\"lookalike_results.pdf\", \"w\") as file:\n",
        "    file.write(lookalike_df.head().to_string())"
      ],
      "metadata": {
        "id": "HnJbg4MjbOxB"
      },
      "execution_count": 9,
      "outputs": []
    },
    {
      "cell_type": "code",
      "source": [],
      "metadata": {
        "id": "Lm1smJqObSnF"
      },
      "execution_count": null,
      "outputs": []
    }
  ]
}